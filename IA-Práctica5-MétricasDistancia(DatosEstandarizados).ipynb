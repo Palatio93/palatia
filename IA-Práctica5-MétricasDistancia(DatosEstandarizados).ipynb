{
 "cells": [
  {
   "cell_type": "markdown",
   "metadata": {
    "id": "pnYOY0aH5jGf"
   },
   "source": [
    "# **Práctica 4: Métricas de distancia (datos estandarizados)**\n",
    "\n",
    "Nombre: Humberto Ignacio Hernández Olvera\n",
    "\n",
    "Número de cuenta: 309068165\n",
    "\n",
    "Email: humberto1nacho@gmail.com"
   ]
  },
  {
   "cell_type": "markdown",
   "metadata": {
    "id": "b05A7-qViDDz"
   },
   "source": [
    "**Objetivo.** Obtener las matrices de distancia (Euclidiana, Chebyshev, Manhattan, Minkowski) a partir de una matriz de datos.\n",
    "\n",
    "\n",
    "**Fuente de datos:**\n",
    "\n",
    "Estudios clínicos a partir de imágenes digitalizadas de pacientes con cáncer de mama de Wisconsin (WDBC, Wisconsin Diagnostic Breast Cancer)\n",
    "\n",
    "* IDNumber: Identifica al paciente\n",
    "* Diagnosis: Diagnóstico (M=Maligno, B=Benigno) \n",
    "* Radius: Media de las distancias del centro y puntos del perímetro\n",
    "* Texture: Desviación estándar de la escala de grises\n",
    "* Perimeter: Valor del perímetro del cáncer de mama\n",
    "* Area: Valor del área del cáncer de mama\n",
    "* Smoothness: Variación de la longitud del radio\n",
    "* Compactness: Perímetro^2 / Area - 1\n",
    "* Concavity: Capida o gravedad de las curvas de nivel\n",
    "* Concave points: Número de sectores de contorno cóncavo\n",
    "* Symmetry: Simetría de la imagen\n",
    "* Fractal dimension: \"Aproximación de frontera\" - 1\n"
   ]
  },
  {
   "cell_type": "markdown",
   "metadata": {
    "id": "OhmPOcypjfUv"
   },
   "source": [
    "#### **1) Importar las bibliotecas necesarias**\n"
   ]
  },
  {
   "cell_type": "code",
   "execution_count": 1,
   "metadata": {
    "id": "N6zYyzEQQG36"
   },
   "outputs": [],
   "source": [
    "import pandas as pd                         # Para la manipulación y análisis de datos\n",
    "import numpy as np                          # Para crear vectores y matrices n dimensionales\n",
    "import matplotlib.pyplot as plt             # Para generar gráficas a partir de los datos\n",
    "from scipy.spatial.distance import cdist    # Para el cálculo de distancias\n",
    "from scipy.spatial import distance\n",
    "import seaborn as sns\n",
    "%matplotlib inline"
   ]
  },
  {
   "cell_type": "markdown",
   "metadata": {
    "id": "uuGs6szll3vf"
   },
   "source": [
    "#### **2) Importar los datos**"
   ]
  },
  {
   "cell_type": "code",
   "execution_count": 2,
   "metadata": {
    "colab": {
     "base_uri": "https://localhost:8080/",
     "height": 444
    },
    "executionInfo": {
     "elapsed": 108,
     "status": "ok",
     "timestamp": 1633310413441,
     "user": {
      "displayName": "Guillermo Molero-Castillo",
      "photoUrl": "https://lh3.googleusercontent.com/a/default-user=s64",
      "userId": "05385957137518665248"
     },
     "user_tz": 300
    },
    "id": "Kdq7I0JVQvEB",
    "outputId": "18b849d2-7157-4a52-a3da-69b24703cb2e"
   },
   "outputs": [
    {
     "data": {
      "text/html": [
       "<div>\n",
       "<style scoped>\n",
       "    .dataframe tbody tr th:only-of-type {\n",
       "        vertical-align: middle;\n",
       "    }\n",
       "\n",
       "    .dataframe tbody tr th {\n",
       "        vertical-align: top;\n",
       "    }\n",
       "\n",
       "    .dataframe thead th {\n",
       "        text-align: right;\n",
       "    }\n",
       "</style>\n",
       "<table border=\"1\" class=\"dataframe\">\n",
       "  <thead>\n",
       "    <tr style=\"text-align: right;\">\n",
       "      <th></th>\n",
       "      <th>IDNumber</th>\n",
       "      <th>Diagnosis</th>\n",
       "      <th>Radius</th>\n",
       "      <th>Texture</th>\n",
       "      <th>Perimeter</th>\n",
       "      <th>Area</th>\n",
       "      <th>Smoothness</th>\n",
       "      <th>Compactness</th>\n",
       "      <th>Concavity</th>\n",
       "      <th>ConcavePoints</th>\n",
       "      <th>Symmetry</th>\n",
       "      <th>FractalDimension</th>\n",
       "    </tr>\n",
       "  </thead>\n",
       "  <tbody>\n",
       "    <tr>\n",
       "      <th>0</th>\n",
       "      <td>P-842302</td>\n",
       "      <td>M</td>\n",
       "      <td>17.99</td>\n",
       "      <td>10.38</td>\n",
       "      <td>122.80</td>\n",
       "      <td>1001.0</td>\n",
       "      <td>0.11840</td>\n",
       "      <td>0.27760</td>\n",
       "      <td>0.30010</td>\n",
       "      <td>0.14710</td>\n",
       "      <td>0.2419</td>\n",
       "      <td>0.07871</td>\n",
       "    </tr>\n",
       "    <tr>\n",
       "      <th>1</th>\n",
       "      <td>P-842517</td>\n",
       "      <td>M</td>\n",
       "      <td>20.57</td>\n",
       "      <td>17.77</td>\n",
       "      <td>132.90</td>\n",
       "      <td>1326.0</td>\n",
       "      <td>0.08474</td>\n",
       "      <td>0.07864</td>\n",
       "      <td>0.08690</td>\n",
       "      <td>0.07017</td>\n",
       "      <td>0.1812</td>\n",
       "      <td>0.05667</td>\n",
       "    </tr>\n",
       "    <tr>\n",
       "      <th>2</th>\n",
       "      <td>P-84300903</td>\n",
       "      <td>M</td>\n",
       "      <td>19.69</td>\n",
       "      <td>21.25</td>\n",
       "      <td>130.00</td>\n",
       "      <td>1203.0</td>\n",
       "      <td>0.10960</td>\n",
       "      <td>0.15990</td>\n",
       "      <td>0.19740</td>\n",
       "      <td>0.12790</td>\n",
       "      <td>0.2069</td>\n",
       "      <td>0.05999</td>\n",
       "    </tr>\n",
       "    <tr>\n",
       "      <th>3</th>\n",
       "      <td>P-84348301</td>\n",
       "      <td>M</td>\n",
       "      <td>11.42</td>\n",
       "      <td>20.38</td>\n",
       "      <td>77.58</td>\n",
       "      <td>386.1</td>\n",
       "      <td>0.14250</td>\n",
       "      <td>0.28390</td>\n",
       "      <td>0.24140</td>\n",
       "      <td>0.10520</td>\n",
       "      <td>0.2597</td>\n",
       "      <td>0.09744</td>\n",
       "    </tr>\n",
       "    <tr>\n",
       "      <th>4</th>\n",
       "      <td>P-84358402</td>\n",
       "      <td>M</td>\n",
       "      <td>20.29</td>\n",
       "      <td>14.34</td>\n",
       "      <td>135.10</td>\n",
       "      <td>1297.0</td>\n",
       "      <td>0.10030</td>\n",
       "      <td>0.13280</td>\n",
       "      <td>0.19800</td>\n",
       "      <td>0.10430</td>\n",
       "      <td>0.1809</td>\n",
       "      <td>0.05883</td>\n",
       "    </tr>\n",
       "    <tr>\n",
       "      <th>...</th>\n",
       "      <td>...</td>\n",
       "      <td>...</td>\n",
       "      <td>...</td>\n",
       "      <td>...</td>\n",
       "      <td>...</td>\n",
       "      <td>...</td>\n",
       "      <td>...</td>\n",
       "      <td>...</td>\n",
       "      <td>...</td>\n",
       "      <td>...</td>\n",
       "      <td>...</td>\n",
       "      <td>...</td>\n",
       "    </tr>\n",
       "    <tr>\n",
       "      <th>564</th>\n",
       "      <td>P-926424</td>\n",
       "      <td>M</td>\n",
       "      <td>21.56</td>\n",
       "      <td>22.39</td>\n",
       "      <td>142.00</td>\n",
       "      <td>1479.0</td>\n",
       "      <td>0.11100</td>\n",
       "      <td>0.11590</td>\n",
       "      <td>0.24390</td>\n",
       "      <td>0.13890</td>\n",
       "      <td>0.1726</td>\n",
       "      <td>0.05623</td>\n",
       "    </tr>\n",
       "    <tr>\n",
       "      <th>565</th>\n",
       "      <td>P-926682</td>\n",
       "      <td>M</td>\n",
       "      <td>20.13</td>\n",
       "      <td>28.25</td>\n",
       "      <td>131.20</td>\n",
       "      <td>1261.0</td>\n",
       "      <td>0.09780</td>\n",
       "      <td>0.10340</td>\n",
       "      <td>0.14400</td>\n",
       "      <td>0.09791</td>\n",
       "      <td>0.1752</td>\n",
       "      <td>0.05533</td>\n",
       "    </tr>\n",
       "    <tr>\n",
       "      <th>566</th>\n",
       "      <td>P-926954</td>\n",
       "      <td>M</td>\n",
       "      <td>16.60</td>\n",
       "      <td>28.08</td>\n",
       "      <td>108.30</td>\n",
       "      <td>858.1</td>\n",
       "      <td>0.08455</td>\n",
       "      <td>0.10230</td>\n",
       "      <td>0.09251</td>\n",
       "      <td>0.05302</td>\n",
       "      <td>0.1590</td>\n",
       "      <td>0.05648</td>\n",
       "    </tr>\n",
       "    <tr>\n",
       "      <th>567</th>\n",
       "      <td>P-927241</td>\n",
       "      <td>M</td>\n",
       "      <td>20.60</td>\n",
       "      <td>29.33</td>\n",
       "      <td>140.10</td>\n",
       "      <td>1265.0</td>\n",
       "      <td>0.11780</td>\n",
       "      <td>0.27700</td>\n",
       "      <td>0.35140</td>\n",
       "      <td>0.15200</td>\n",
       "      <td>0.2397</td>\n",
       "      <td>0.07016</td>\n",
       "    </tr>\n",
       "    <tr>\n",
       "      <th>568</th>\n",
       "      <td>P-92751</td>\n",
       "      <td>B</td>\n",
       "      <td>7.76</td>\n",
       "      <td>24.54</td>\n",
       "      <td>47.92</td>\n",
       "      <td>181.0</td>\n",
       "      <td>0.05263</td>\n",
       "      <td>0.04362</td>\n",
       "      <td>0.00000</td>\n",
       "      <td>0.00000</td>\n",
       "      <td>0.1587</td>\n",
       "      <td>0.05884</td>\n",
       "    </tr>\n",
       "  </tbody>\n",
       "</table>\n",
       "<p>569 rows × 12 columns</p>\n",
       "</div>"
      ],
      "text/plain": [
       "       IDNumber Diagnosis  Radius  Texture  Perimeter    Area  Smoothness  \\\n",
       "0      P-842302         M   17.99    10.38     122.80  1001.0     0.11840   \n",
       "1      P-842517         M   20.57    17.77     132.90  1326.0     0.08474   \n",
       "2    P-84300903         M   19.69    21.25     130.00  1203.0     0.10960   \n",
       "3    P-84348301         M   11.42    20.38      77.58   386.1     0.14250   \n",
       "4    P-84358402         M   20.29    14.34     135.10  1297.0     0.10030   \n",
       "..          ...       ...     ...      ...        ...     ...         ...   \n",
       "564    P-926424         M   21.56    22.39     142.00  1479.0     0.11100   \n",
       "565    P-926682         M   20.13    28.25     131.20  1261.0     0.09780   \n",
       "566    P-926954         M   16.60    28.08     108.30   858.1     0.08455   \n",
       "567    P-927241         M   20.60    29.33     140.10  1265.0     0.11780   \n",
       "568     P-92751         B    7.76    24.54      47.92   181.0     0.05263   \n",
       "\n",
       "     Compactness  Concavity  ConcavePoints  Symmetry  FractalDimension  \n",
       "0        0.27760    0.30010        0.14710    0.2419           0.07871  \n",
       "1        0.07864    0.08690        0.07017    0.1812           0.05667  \n",
       "2        0.15990    0.19740        0.12790    0.2069           0.05999  \n",
       "3        0.28390    0.24140        0.10520    0.2597           0.09744  \n",
       "4        0.13280    0.19800        0.10430    0.1809           0.05883  \n",
       "..           ...        ...            ...       ...               ...  \n",
       "564      0.11590    0.24390        0.13890    0.1726           0.05623  \n",
       "565      0.10340    0.14400        0.09791    0.1752           0.05533  \n",
       "566      0.10230    0.09251        0.05302    0.1590           0.05648  \n",
       "567      0.27700    0.35140        0.15200    0.2397           0.07016  \n",
       "568      0.04362    0.00000        0.00000    0.1587           0.05884  \n",
       "\n",
       "[569 rows x 12 columns]"
      ]
     },
     "execution_count": 2,
     "metadata": {},
     "output_type": "execute_result"
    }
   ],
   "source": [
    "Diagnosticos = pd.read_csv(\"WDBCOriginal.csv\")\n",
    "Diagnosticos"
   ]
  },
  {
   "cell_type": "code",
   "execution_count": 3,
   "metadata": {
    "colab": {
     "base_uri": "https://localhost:8080/"
    },
    "executionInfo": {
     "elapsed": 138,
     "status": "ok",
     "timestamp": 1633310420472,
     "user": {
      "displayName": "Guillermo Molero-Castillo",
      "photoUrl": "https://lh3.googleusercontent.com/a/default-user=s64",
      "userId": "05385957137518665248"
     },
     "user_tz": 300
    },
    "id": "rXSmHDzwrRjd",
    "outputId": "0b7272d0-6282-4bc0-b408-d5d090874e09",
    "scrolled": true
   },
   "outputs": [
    {
     "data": {
      "text/plain": [
       "IDNumber             object\n",
       "Diagnosis            object\n",
       "Radius              float64\n",
       "Texture             float64\n",
       "Perimeter           float64\n",
       "Area                float64\n",
       "Smoothness          float64\n",
       "Compactness         float64\n",
       "Concavity           float64\n",
       "ConcavePoints       float64\n",
       "Symmetry            float64\n",
       "FractalDimension    float64\n",
       "dtype: object"
      ]
     },
     "execution_count": 3,
     "metadata": {},
     "output_type": "execute_result"
    }
   ],
   "source": [
    "Diagnosticos.dtypes"
   ]
  },
  {
   "cell_type": "code",
   "execution_count": 4,
   "metadata": {
    "scrolled": true
   },
   "outputs": [
    {
     "data": {
      "text/plain": [
       "IDNumber            0\n",
       "Diagnosis           0\n",
       "Radius              0\n",
       "Texture             0\n",
       "Perimeter           0\n",
       "Area                0\n",
       "Smoothness          0\n",
       "Compactness         0\n",
       "Concavity           0\n",
       "ConcavePoints       0\n",
       "Symmetry            0\n",
       "FractalDimension    0\n",
       "dtype: int64"
      ]
     },
     "execution_count": 4,
     "metadata": {},
     "output_type": "execute_result"
    }
   ],
   "source": [
    "Diagnosticos.isnull().sum()"
   ]
  },
  {
   "cell_type": "markdown",
   "metadata": {},
   "source": [
    "Podemos ver que no se tiene ningun valor de tipo nulo."
   ]
  },
  {
   "cell_type": "code",
   "execution_count": 5,
   "metadata": {},
   "outputs": [
    {
     "data": {
      "image/png": "[encoded data removed]",
      "text/plain": [
       "<Figure size 432x288 with 1 Axes>"
      ]
     },
     "metadata": {
      "needs_background": "light"
     },
     "output_type": "display_data"
    }
   ],
   "source": [
    "plt.plot(Diagnosticos['Texture'],Diagnosticos['Smoothness'],'o')\n",
    "plt.title('Gráfico de dispersión')\n",
    "plt.xlabel('Texture')\n",
    "plt.ylabel('Smoothness')\n",
    "plt.show()"
   ]
  },
  {
   "cell_type": "code",
   "execution_count": 6,
   "metadata": {
    "scrolled": true
   },
   "outputs": [
    {
     "data": {
      "image/png": "[encoded data removed]",
      "text/plain": [
       "<Figure size 432x288 with 1 Axes>"
      ]
     },
     "metadata": {
      "needs_background": "light"
     },
     "output_type": "display_data"
    }
   ],
   "source": [
    "sns.scatterplot(x='Texture', y='Smoothness', data=Diagnosticos, hue='Radius')\n",
    "plt.title('Gráfico de dispersión')\n",
    "plt.xlabel('Texture')\n",
    "plt.ylabel('Smoothness')\n",
    "plt.show()"
   ]
  },
  {
   "cell_type": "code",
   "execution_count": 7,
   "metadata": {},
   "outputs": [
    {
     "data": {
      "image/png": "[encoded data removed]",
      "text/plain": [
       "<Figure size 432x288 with 1 Axes>"
      ]
     },
     "metadata": {
      "needs_background": "light"
     },
     "output_type": "display_data"
    }
   ],
   "source": [
    "plt.plot(Diagnosticos['Perimeter'],Diagnosticos['Area'],'o')\n",
    "plt.title('Gráfico de dispersión')\n",
    "plt.xlabel('Perimeter')\n",
    "plt.ylabel('Area')\n",
    "plt.show()"
   ]
  },
  {
   "cell_type": "code",
   "execution_count": 8,
   "metadata": {},
   "outputs": [
    {
     "data": {
      "image/png": "[encoded data removed]",
      "text/plain": [
       "<Figure size 432x288 with 1 Axes>"
      ]
     },
     "metadata": {
      "needs_background": "light"
     },
     "output_type": "display_data"
    }
   ],
   "source": [
    "sns.scatterplot(x='Perimeter', y='Area', data=Diagnosticos, hue='Radius')\n",
    "plt.title('Gráfico de dispersión')\n",
    "plt.xlabel('Perimeter')\n",
    "plt.ylabel('Area')\n",
    "plt.show()"
   ]
  },
  {
   "cell_type": "code",
   "execution_count": 9,
   "metadata": {
    "scrolled": true
   },
   "outputs": [
    {
     "data": {
      "text/html": [
       "<div>\n",
       "<style scoped>\n",
       "    .dataframe tbody tr th:only-of-type {\n",
       "        vertical-align: middle;\n",
       "    }\n",
       "\n",
       "    .dataframe tbody tr th {\n",
       "        vertical-align: top;\n",
       "    }\n",
       "\n",
       "    .dataframe thead th {\n",
       "        text-align: right;\n",
       "    }\n",
       "</style>\n",
       "<table border=\"1\" class=\"dataframe\">\n",
       "  <thead>\n",
       "    <tr style=\"text-align: right;\">\n",
       "      <th></th>\n",
       "      <th>Radius</th>\n",
       "      <th>Texture</th>\n",
       "      <th>Perimeter</th>\n",
       "      <th>Area</th>\n",
       "      <th>Smoothness</th>\n",
       "      <th>Compactness</th>\n",
       "      <th>Concavity</th>\n",
       "      <th>ConcavePoints</th>\n",
       "      <th>Symmetry</th>\n",
       "      <th>FractalDimension</th>\n",
       "    </tr>\n",
       "  </thead>\n",
       "  <tbody>\n",
       "    <tr>\n",
       "      <th>Radius</th>\n",
       "      <td>1.000000</td>\n",
       "      <td>0.323782</td>\n",
       "      <td>0.997855</td>\n",
       "      <td>0.987357</td>\n",
       "      <td>0.170581</td>\n",
       "      <td>0.506124</td>\n",
       "      <td>0.676764</td>\n",
       "      <td>0.822529</td>\n",
       "      <td>0.147741</td>\n",
       "      <td>-0.311631</td>\n",
       "    </tr>\n",
       "    <tr>\n",
       "      <th>Texture</th>\n",
       "      <td>0.323782</td>\n",
       "      <td>1.000000</td>\n",
       "      <td>0.329533</td>\n",
       "      <td>0.321086</td>\n",
       "      <td>-0.023389</td>\n",
       "      <td>0.236702</td>\n",
       "      <td>0.302418</td>\n",
       "      <td>0.293464</td>\n",
       "      <td>0.071401</td>\n",
       "      <td>-0.076437</td>\n",
       "    </tr>\n",
       "    <tr>\n",
       "      <th>Perimeter</th>\n",
       "      <td>0.997855</td>\n",
       "      <td>0.329533</td>\n",
       "      <td>1.000000</td>\n",
       "      <td>0.986507</td>\n",
       "      <td>0.207278</td>\n",
       "      <td>0.556936</td>\n",
       "      <td>0.716136</td>\n",
       "      <td>0.850977</td>\n",
       "      <td>0.183027</td>\n",
       "      <td>-0.261477</td>\n",
       "    </tr>\n",
       "    <tr>\n",
       "      <th>Area</th>\n",
       "      <td>0.987357</td>\n",
       "      <td>0.321086</td>\n",
       "      <td>0.986507</td>\n",
       "      <td>1.000000</td>\n",
       "      <td>0.177028</td>\n",
       "      <td>0.498502</td>\n",
       "      <td>0.685983</td>\n",
       "      <td>0.823269</td>\n",
       "      <td>0.151293</td>\n",
       "      <td>-0.283110</td>\n",
       "    </tr>\n",
       "    <tr>\n",
       "      <th>Smoothness</th>\n",
       "      <td>0.170581</td>\n",
       "      <td>-0.023389</td>\n",
       "      <td>0.207278</td>\n",
       "      <td>0.177028</td>\n",
       "      <td>1.000000</td>\n",
       "      <td>0.659123</td>\n",
       "      <td>0.521984</td>\n",
       "      <td>0.553695</td>\n",
       "      <td>0.557775</td>\n",
       "      <td>0.584792</td>\n",
       "    </tr>\n",
       "    <tr>\n",
       "      <th>Compactness</th>\n",
       "      <td>0.506124</td>\n",
       "      <td>0.236702</td>\n",
       "      <td>0.556936</td>\n",
       "      <td>0.498502</td>\n",
       "      <td>0.659123</td>\n",
       "      <td>1.000000</td>\n",
       "      <td>0.883121</td>\n",
       "      <td>0.831135</td>\n",
       "      <td>0.602641</td>\n",
       "      <td>0.565369</td>\n",
       "    </tr>\n",
       "    <tr>\n",
       "      <th>Concavity</th>\n",
       "      <td>0.676764</td>\n",
       "      <td>0.302418</td>\n",
       "      <td>0.716136</td>\n",
       "      <td>0.685983</td>\n",
       "      <td>0.521984</td>\n",
       "      <td>0.883121</td>\n",
       "      <td>1.000000</td>\n",
       "      <td>0.921391</td>\n",
       "      <td>0.500667</td>\n",
       "      <td>0.336783</td>\n",
       "    </tr>\n",
       "    <tr>\n",
       "      <th>ConcavePoints</th>\n",
       "      <td>0.822529</td>\n",
       "      <td>0.293464</td>\n",
       "      <td>0.850977</td>\n",
       "      <td>0.823269</td>\n",
       "      <td>0.553695</td>\n",
       "      <td>0.831135</td>\n",
       "      <td>0.921391</td>\n",
       "      <td>1.000000</td>\n",
       "      <td>0.462497</td>\n",
       "      <td>0.166917</td>\n",
       "    </tr>\n",
       "    <tr>\n",
       "      <th>Symmetry</th>\n",
       "      <td>0.147741</td>\n",
       "      <td>0.071401</td>\n",
       "      <td>0.183027</td>\n",
       "      <td>0.151293</td>\n",
       "      <td>0.557775</td>\n",
       "      <td>0.602641</td>\n",
       "      <td>0.500667</td>\n",
       "      <td>0.462497</td>\n",
       "      <td>1.000000</td>\n",
       "      <td>0.479921</td>\n",
       "    </tr>\n",
       "    <tr>\n",
       "      <th>FractalDimension</th>\n",
       "      <td>-0.311631</td>\n",
       "      <td>-0.076437</td>\n",
       "      <td>-0.261477</td>\n",
       "      <td>-0.283110</td>\n",
       "      <td>0.584792</td>\n",
       "      <td>0.565369</td>\n",
       "      <td>0.336783</td>\n",
       "      <td>0.166917</td>\n",
       "      <td>0.479921</td>\n",
       "      <td>1.000000</td>\n",
       "    </tr>\n",
       "  </tbody>\n",
       "</table>\n",
       "</div>"
      ],
      "text/plain": [
       "                    Radius   Texture  Perimeter      Area  Smoothness  \\\n",
       "Radius            1.000000  0.323782   0.997855  0.987357    0.170581   \n",
       "Texture           0.323782  1.000000   0.329533  0.321086   -0.023389   \n",
       "Perimeter         0.997855  0.329533   1.000000  0.986507    0.207278   \n",
       "Area              0.987357  0.321086   0.986507  1.000000    0.177028   \n",
       "Smoothness        0.170581 -0.023389   0.207278  0.177028    1.000000   \n",
       "Compactness       0.506124  0.236702   0.556936  0.498502    0.659123   \n",
       "Concavity         0.676764  0.302418   0.716136  0.685983    0.521984   \n",
       "ConcavePoints     0.822529  0.293464   0.850977  0.823269    0.553695   \n",
       "Symmetry          0.147741  0.071401   0.183027  0.151293    0.557775   \n",
       "FractalDimension -0.311631 -0.076437  -0.261477 -0.283110    0.584792   \n",
       "\n",
       "                  Compactness  Concavity  ConcavePoints  Symmetry  \\\n",
       "Radius               0.506124   0.676764       0.822529  0.147741   \n",
       "Texture              0.236702   0.302418       0.293464  0.071401   \n",
       "Perimeter            0.556936   0.716136       0.850977  0.183027   \n",
       "Area                 0.498502   0.685983       0.823269  0.151293   \n",
       "Smoothness           0.659123   0.521984       0.553695  0.557775   \n",
       "Compactness          1.000000   0.883121       0.831135  0.602641   \n",
       "Concavity            0.883121   1.000000       0.921391  0.500667   \n",
       "ConcavePoints        0.831135   0.921391       1.000000  0.462497   \n",
       "Symmetry             0.602641   0.500667       0.462497  1.000000   \n",
       "FractalDimension     0.565369   0.336783       0.166917  0.479921   \n",
       "\n",
       "                  FractalDimension  \n",
       "Radius                   -0.311631  \n",
       "Texture                  -0.076437  \n",
       "Perimeter                -0.261477  \n",
       "Area                     -0.283110  \n",
       "Smoothness                0.584792  \n",
       "Compactness               0.565369  \n",
       "Concavity                 0.336783  \n",
       "ConcavePoints             0.166917  \n",
       "Symmetry                  0.479921  \n",
       "FractalDimension          1.000000  "
      ]
     },
     "execution_count": 9,
     "metadata": {},
     "output_type": "execute_result"
    }
   ],
   "source": [
    "Diagnosticos.corr()"
   ]
  },
  {
   "cell_type": "code",
   "execution_count": 10,
   "metadata": {},
   "outputs": [
    {
     "data": {
      "image/png": "[encoded data removed]",
      "text/plain": [
       "<Figure size 1008x504 with 2 Axes>"
      ]
     },
     "metadata": {
      "needs_background": "light"
     },
     "output_type": "display_data"
    }
   ],
   "source": [
    "plt.figure(figsize=(14,7))\n",
    "MatrizTnf=np.triu(Diagnosticos.corr())\n",
    "sns.heatmap(Diagnosticos.corr(),cmap='RdBu_r', annot=True, mask=MatrizTnf)\n",
    "plt.show()"
   ]
  },
  {
   "cell_type": "markdown",
   "metadata": {},
   "source": [
    "Como se observa en el mapa de calor, el perímetro y el área tienen una gran dependencia entre sí debido al radio, y la variable concavity con concavepoints. Se hará la eliminación de las variables perímetro y área con base en el análisis correlacional."
   ]
  },
  {
   "cell_type": "code",
   "execution_count": 15,
   "metadata": {
    "scrolled": false
   },
   "outputs": [],
   "source": [
    "Diagnosticos = Diagnosticos.drop(columns=['Perimeter','Area']) # Se eliminan las variables con alto grado de similitud"
   ]
  },
  {
   "cell_type": "code",
   "execution_count": 16,
   "metadata": {},
   "outputs": [],
   "source": [
    "Diagnosticos = Diagnosticos.drop(columns=['IDNumber','Diagnosis']) # Se eliminan las columnas que no son numéricas"
   ]
  },
  {
   "cell_type": "markdown",
   "metadata": {},
   "source": [
    "Habiendo aplicado el análisis correlacional de los datos, se procede a su estandarización."
   ]
  },
  {
   "cell_type": "markdown",
   "metadata": {
    "id": "CzJj--8CriU5"
   },
   "source": [
    "**Estandarización de datos**\n",
    "\n",
    "En los algoritmos basados en distancias es fundamental escalar o normalizar los datos para que cada una de las variables contribuyan por igual en el análisis."
   ]
  },
  {
   "cell_type": "code",
   "execution_count": 18,
   "metadata": {
    "id": "UAA9sqj6r3xG"
   },
   "outputs": [],
   "source": [
    "from sklearn.preprocessing import StandardScaler, MinMaxScaler  \n",
    "estandarizar = StandardScaler()   \n",
    "# Se instancia el objeto StandardScaler o MinMaxScaler \n",
    "MEstandarizada = estandarizar.fit_transform(Diagnosticos)         # Se calculan la media y desviación y se escalan los datos"
   ]
  },
  {
   "cell_type": "code",
   "execution_count": 19,
   "metadata": {
    "colab": {
     "base_uri": "https://localhost:8080/",
     "height": 424
    },
    "executionInfo": {
     "elapsed": 230,
     "status": "ok",
     "timestamp": 1633307604719,
     "user": {
      "displayName": "Guillermo Molero-Castillo",
      "photoUrl": "https://lh3.googleusercontent.com/a/default-user=s64",
      "userId": "05385957137518665248"
     },
     "user_tz": 300
    },
    "id": "5q-FQcZssZJE",
    "outputId": "d7538f26-d196-4876-fbc7-97481c2a1b7b"
   },
   "outputs": [
    {
     "data": {
      "text/html": [
       "<div>\n",
       "<style scoped>\n",
       "    .dataframe tbody tr th:only-of-type {\n",
       "        vertical-align: middle;\n",
       "    }\n",
       "\n",
       "    .dataframe tbody tr th {\n",
       "        vertical-align: top;\n",
       "    }\n",
       "\n",
       "    .dataframe thead th {\n",
       "        text-align: right;\n",
       "    }\n",
       "</style>\n",
       "<table border=\"1\" class=\"dataframe\">\n",
       "  <thead>\n",
       "    <tr style=\"text-align: right;\">\n",
       "      <th></th>\n",
       "      <th>0</th>\n",
       "      <th>1</th>\n",
       "      <th>2</th>\n",
       "      <th>3</th>\n",
       "      <th>4</th>\n",
       "      <th>5</th>\n",
       "      <th>6</th>\n",
       "      <th>7</th>\n",
       "    </tr>\n",
       "  </thead>\n",
       "  <tbody>\n",
       "    <tr>\n",
       "      <th>0</th>\n",
       "      <td>1.097064</td>\n",
       "      <td>-2.073335</td>\n",
       "      <td>1.568466</td>\n",
       "      <td>3.283515</td>\n",
       "      <td>2.652874</td>\n",
       "      <td>2.532475</td>\n",
       "      <td>2.217515</td>\n",
       "      <td>2.255747</td>\n",
       "    </tr>\n",
       "    <tr>\n",
       "      <th>1</th>\n",
       "      <td>1.829821</td>\n",
       "      <td>-0.353632</td>\n",
       "      <td>-0.826962</td>\n",
       "      <td>-0.487072</td>\n",
       "      <td>-0.023846</td>\n",
       "      <td>0.548144</td>\n",
       "      <td>0.001392</td>\n",
       "      <td>-0.868652</td>\n",
       "    </tr>\n",
       "    <tr>\n",
       "      <th>2</th>\n",
       "      <td>1.579888</td>\n",
       "      <td>0.456187</td>\n",
       "      <td>0.942210</td>\n",
       "      <td>1.052926</td>\n",
       "      <td>1.363478</td>\n",
       "      <td>2.037231</td>\n",
       "      <td>0.939685</td>\n",
       "      <td>-0.398008</td>\n",
       "    </tr>\n",
       "    <tr>\n",
       "      <th>3</th>\n",
       "      <td>-0.768909</td>\n",
       "      <td>0.253732</td>\n",
       "      <td>3.283553</td>\n",
       "      <td>3.402909</td>\n",
       "      <td>1.915897</td>\n",
       "      <td>1.451707</td>\n",
       "      <td>2.867383</td>\n",
       "      <td>4.910919</td>\n",
       "    </tr>\n",
       "    <tr>\n",
       "      <th>4</th>\n",
       "      <td>1.750297</td>\n",
       "      <td>-1.151816</td>\n",
       "      <td>0.280372</td>\n",
       "      <td>0.539340</td>\n",
       "      <td>1.371011</td>\n",
       "      <td>1.428493</td>\n",
       "      <td>-0.009560</td>\n",
       "      <td>-0.562450</td>\n",
       "    </tr>\n",
       "    <tr>\n",
       "      <th>...</th>\n",
       "      <td>...</td>\n",
       "      <td>...</td>\n",
       "      <td>...</td>\n",
       "      <td>...</td>\n",
       "      <td>...</td>\n",
       "      <td>...</td>\n",
       "      <td>...</td>\n",
       "      <td>...</td>\n",
       "    </tr>\n",
       "    <tr>\n",
       "      <th>564</th>\n",
       "      <td>2.110995</td>\n",
       "      <td>0.721473</td>\n",
       "      <td>1.041842</td>\n",
       "      <td>0.219060</td>\n",
       "      <td>1.947285</td>\n",
       "      <td>2.320965</td>\n",
       "      <td>-0.312589</td>\n",
       "      <td>-0.931027</td>\n",
       "    </tr>\n",
       "    <tr>\n",
       "      <th>565</th>\n",
       "      <td>1.704854</td>\n",
       "      <td>2.085134</td>\n",
       "      <td>0.102458</td>\n",
       "      <td>-0.017833</td>\n",
       "      <td>0.693043</td>\n",
       "      <td>1.263669</td>\n",
       "      <td>-0.217664</td>\n",
       "      <td>-1.058611</td>\n",
       "    </tr>\n",
       "    <tr>\n",
       "      <th>566</th>\n",
       "      <td>0.702284</td>\n",
       "      <td>2.045574</td>\n",
       "      <td>-0.840484</td>\n",
       "      <td>-0.038680</td>\n",
       "      <td>0.046588</td>\n",
       "      <td>0.105777</td>\n",
       "      <td>-0.809117</td>\n",
       "      <td>-0.895587</td>\n",
       "    </tr>\n",
       "    <tr>\n",
       "      <th>567</th>\n",
       "      <td>1.838341</td>\n",
       "      <td>2.336457</td>\n",
       "      <td>1.525767</td>\n",
       "      <td>3.272144</td>\n",
       "      <td>3.296944</td>\n",
       "      <td>2.658866</td>\n",
       "      <td>2.137194</td>\n",
       "      <td>1.043695</td>\n",
       "    </tr>\n",
       "    <tr>\n",
       "      <th>568</th>\n",
       "      <td>-1.808401</td>\n",
       "      <td>1.221792</td>\n",
       "      <td>-3.112085</td>\n",
       "      <td>-1.150752</td>\n",
       "      <td>-1.114873</td>\n",
       "      <td>-1.261820</td>\n",
       "      <td>-0.820070</td>\n",
       "      <td>-0.561032</td>\n",
       "    </tr>\n",
       "  </tbody>\n",
       "</table>\n",
       "<p>569 rows × 8 columns</p>\n",
       "</div>"
      ],
      "text/plain": [
       "            0         1         2         3         4         5         6  \\\n",
       "0    1.097064 -2.073335  1.568466  3.283515  2.652874  2.532475  2.217515   \n",
       "1    1.829821 -0.353632 -0.826962 -0.487072 -0.023846  0.548144  0.001392   \n",
       "2    1.579888  0.456187  0.942210  1.052926  1.363478  2.037231  0.939685   \n",
       "3   -0.768909  0.253732  3.283553  3.402909  1.915897  1.451707  2.867383   \n",
       "4    1.750297 -1.151816  0.280372  0.539340  1.371011  1.428493 -0.009560   \n",
       "..        ...       ...       ...       ...       ...       ...       ...   \n",
       "564  2.110995  0.721473  1.041842  0.219060  1.947285  2.320965 -0.312589   \n",
       "565  1.704854  2.085134  0.102458 -0.017833  0.693043  1.263669 -0.217664   \n",
       "566  0.702284  2.045574 -0.840484 -0.038680  0.046588  0.105777 -0.809117   \n",
       "567  1.838341  2.336457  1.525767  3.272144  3.296944  2.658866  2.137194   \n",
       "568 -1.808401  1.221792 -3.112085 -1.150752 -1.114873 -1.261820 -0.820070   \n",
       "\n",
       "            7  \n",
       "0    2.255747  \n",
       "1   -0.868652  \n",
       "2   -0.398008  \n",
       "3    4.910919  \n",
       "4   -0.562450  \n",
       "..        ...  \n",
       "564 -0.931027  \n",
       "565 -1.058611  \n",
       "566 -0.895587  \n",
       "567  1.043695  \n",
       "568 -0.561032  \n",
       "\n",
       "[569 rows x 8 columns]"
      ]
     },
     "execution_count": 19,
     "metadata": {},
     "output_type": "execute_result"
    }
   ],
   "source": [
    "pd.DataFrame(MEstandarizada) "
   ]
  },
  {
   "cell_type": "markdown",
   "metadata": {
    "id": "t0Ong23Yl8eY"
   },
   "source": [
    "#### **3) Matrices de distancia**"
   ]
  },
  {
   "cell_type": "markdown",
   "metadata": {
    "id": "I3uEnrDx--At"
   },
   "source": [
    "**a) Matriz de distancias: Euclidiana**"
   ]
  },
  {
   "cell_type": "code",
   "execution_count": 20,
   "metadata": {
    "id": "yolJSfM6yVWa"
   },
   "outputs": [],
   "source": [
    "DstEuclidiana = cdist(MEstandarizada, MEstandarizada, metric='euclidean')\n",
    "MEuclidiana = pd.DataFrame(DstEuclidiana)"
   ]
  },
  {
   "cell_type": "code",
   "execution_count": 21,
   "metadata": {
    "colab": {
     "base_uri": "https://localhost:8080/"
    },
    "executionInfo": {
     "elapsed": 180,
     "status": "ok",
     "timestamp": 1633307567508,
     "user": {
      "displayName": "Guillermo Molero-Castillo",
      "photoUrl": "https://lh3.googleusercontent.com/a/default-user=s64",
      "userId": "05385957137518665248"
     },
     "user_tz": 300
    },
    "id": "pnchjOx2_aBz",
    "outputId": "6f9fa18e-151c-4e30-c816-1be32d08d521"
   },
   "outputs": [
    {
     "name": "stdout",
     "output_type": "stream",
     "text": [
      "           0         1         2          3         4         5         6    \\\n",
      "0     0.000000  7.016066  4.752094   4.586539  5.121488  4.040492  6.440001   \n",
      "1     7.016066  0.000000  3.385821   9.238342  2.395340  5.236969  1.286614   \n",
      "2     4.752094  3.385821  0.000000   7.007915  2.148311  3.816713  2.554330   \n",
      "3     4.586539  9.238342  7.007915   0.000000  8.004568  4.594912  8.390649   \n",
      "4     5.121488  2.395340  2.148311   8.004568  0.000000  4.129082  2.055532   \n",
      "..         ...       ...       ...        ...       ...       ...       ...   \n",
      "564   5.967140  3.515208  1.825196   8.286853  2.382856  4.970062  2.859779   \n",
      "565   7.285343  2.856078  2.710079   8.830511  3.405628  5.463609  2.167251   \n",
      "566   8.107668  2.843777  4.054201   9.314791  4.143188  5.748845  2.287540   \n",
      "567   4.680174  7.113734  4.062627   5.752871  5.797096  5.595192  6.258826   \n",
      "568  10.325872  5.159129  7.315014  11.124121  6.836509  7.614335  5.169956   \n",
      "\n",
      "          7         8         9    ...       559       560        561  \\\n",
      "0    4.978613  4.068246  4.330254  ...  7.644459  7.859968  10.887519   \n",
      "1    4.615195  5.578802  6.306882  ...  3.725534  3.459769   5.256013   \n",
      "2    3.545278  3.369686  4.337093  ...  4.634093  4.253855   7.229909   \n",
      "3    5.088560  4.119834  3.676230  ...  8.384394  8.505381  11.582405   \n",
      "4    4.225424  4.569281  5.296155  ...  4.358536  4.420036   6.844965   \n",
      "..        ...       ...       ...  ...       ...       ...        ...   \n",
      "564  4.862321  4.772547  5.439456  ...  4.746356  4.464081   6.965545   \n",
      "565  4.613610  5.061817  5.616502  ...  3.659115  2.843076   5.189974   \n",
      "566  4.726994  5.625641  5.880884  ...  2.398777  1.650672   3.400002   \n",
      "567  5.416015  4.194482  4.190784  ...  7.327976  7.013386  10.041411   \n",
      "568  6.688433  7.903703  8.026813  ...  3.875791  4.247431   2.942179   \n",
      "\n",
      "          562       563       564       565       566        567        568  \n",
      "0    5.457874  4.101214  5.967140  7.285343  8.107668   4.680174  10.325872  \n",
      "1    5.474289  5.520283  3.515208  2.856078  2.843777   7.113734   5.159129  \n",
      "2    3.366108  2.557875  1.825196  2.710079  4.054201   4.062627   7.315014  \n",
      "3    5.710868  6.036172  8.286853  8.830511  9.314791   5.752871  11.124121  \n",
      "4    4.875338  4.090896  2.382856  3.405628  4.143188   5.797096   6.836509  \n",
      "..        ...       ...       ...       ...       ...        ...        ...  \n",
      "564  4.288777  3.324871  0.000000  2.383142  4.014323   4.906602   7.573048  \n",
      "565  3.947424  4.316528  2.383142  0.000000  2.007809   5.623403   5.912888  \n",
      "566  4.510507  5.624735  4.014323  2.007809  0.000000   6.889164   4.087835  \n",
      "567  3.104608  1.837350  4.906602  5.623403  6.889164   0.000000  10.088080  \n",
      "568  7.304784  8.875026  7.573048  5.912888  4.087835  10.088080   0.000000  \n",
      "\n",
      "[569 rows x 569 columns]\n"
     ]
    }
   ],
   "source": [
    "print(MEuclidiana)\n",
    "#MEuclidiana "
   ]
  },
  {
   "cell_type": "code",
   "execution_count": 22,
   "metadata": {
    "colab": {
     "base_uri": "https://localhost:8080/"
    },
    "executionInfo": {
     "elapsed": 159,
     "status": "ok",
     "timestamp": 1633307649469,
     "user": {
      "displayName": "Guillermo Molero-Castillo",
      "photoUrl": "https://lh3.googleusercontent.com/a/default-user=s64",
      "userId": "05385957137518665248"
     },
     "user_tz": 300
    },
    "id": "NX8EtpHSoL6k",
    "outputId": "c0fe34ad-02d3-47f7-c9d3-6aea53295d7b"
   },
   "outputs": [
    {
     "name": "stdout",
     "output_type": "stream",
     "text": [
      "        0      1      2       3      4      5      6      7      8      9    \\\n",
      "0     0.000  7.016  4.752   4.587  5.121  4.040  6.440  4.979  4.068  4.330   \n",
      "1     7.016  0.000  3.386   9.238  2.395  5.237  1.287  4.615  5.579  6.307   \n",
      "2     4.752  3.386  0.000   7.008  2.148  3.817  2.554  3.545  3.370  4.337   \n",
      "3     4.587  9.238  7.008   0.000  8.005  4.595  8.391  5.089  4.120  3.676   \n",
      "4     5.121  2.395  2.148   8.005  0.000  4.129  2.056  4.225  4.569  5.296   \n",
      "..      ...    ...    ...     ...    ...    ...    ...    ...    ...    ...   \n",
      "564   5.967  3.515  1.825   8.287  2.383  4.970  2.860  4.862  4.773  5.439   \n",
      "565   7.285  2.856  2.710   8.831  3.406  5.464  2.167  4.614  5.062  5.617   \n",
      "566   8.108  2.844  4.054   9.315  4.143  5.749  2.288  4.727  5.626  5.881   \n",
      "567   4.680  7.114  4.063   5.753  5.797  5.595  6.259  5.416  4.194  4.191   \n",
      "568  10.326  5.159  7.315  11.124  6.837  7.614  5.170  6.688  7.904  8.027   \n",
      "\n",
      "     ...    559    560     561    562    563    564    565    566     567  \\\n",
      "0    ...  7.644  7.860  10.888  5.458  4.101  5.967  7.285  8.108   4.680   \n",
      "1    ...  3.726  3.460   5.256  5.474  5.520  3.515  2.856  2.844   7.114   \n",
      "2    ...  4.634  4.254   7.230  3.366  2.558  1.825  2.710  4.054   4.063   \n",
      "3    ...  8.384  8.505  11.582  5.711  6.036  8.287  8.831  9.315   5.753   \n",
      "4    ...  4.359  4.420   6.845  4.875  4.091  2.383  3.406  4.143   5.797   \n",
      "..   ...    ...    ...     ...    ...    ...    ...    ...    ...     ...   \n",
      "564  ...  4.746  4.464   6.966  4.289  3.325  0.000  2.383  4.014   4.907   \n",
      "565  ...  3.659  2.843   5.190  3.947  4.317  2.383  0.000  2.008   5.623   \n",
      "566  ...  2.399  1.651   3.400  4.511  5.625  4.014  2.008  0.000   6.889   \n",
      "567  ...  7.328  7.013  10.041  3.105  1.837  4.907  5.623  6.889   0.000   \n",
      "568  ...  3.876  4.247   2.942  7.305  8.875  7.573  5.913  4.088  10.088   \n",
      "\n",
      "        568  \n",
      "0    10.326  \n",
      "1     5.159  \n",
      "2     7.315  \n",
      "3    11.124  \n",
      "4     6.837  \n",
      "..      ...  \n",
      "564   7.573  \n",
      "565   5.913  \n",
      "566   4.088  \n",
      "567  10.088  \n",
      "568   0.000  \n",
      "\n",
      "[569 rows x 569 columns]\n"
     ]
    }
   ],
   "source": [
    "print(MEuclidiana.round(3))"
   ]
  },
  {
   "cell_type": "markdown",
   "metadata": {
    "id": "1WPWHVnkrLWI"
   },
   "source": [
    "Matriz de distancias de una parte del total de objetos"
   ]
  },
  {
   "cell_type": "code",
   "execution_count": 23,
   "metadata": {
    "colab": {
     "base_uri": "https://localhost:8080/"
    },
    "executionInfo": {
     "elapsed": 211,
     "status": "ok",
     "timestamp": 1633307817926,
     "user": {
      "displayName": "Guillermo Molero-Castillo",
      "photoUrl": "https://lh3.googleusercontent.com/a/default-user=s64",
      "userId": "05385957137518665248"
     },
     "user_tz": 300
    },
    "id": "QJMTRTpoqoRC",
    "outputId": "7bfc9575-8b5d-4011-ed1d-73f215b58409"
   },
   "outputs": [
    {
     "name": "stdout",
     "output_type": "stream",
     "text": [
      "          0         1         2         3         4         5         6  \\\n",
      "0  0.000000  7.016066  4.752094  4.586539  5.121488  4.040492  6.440001   \n",
      "1  7.016066  0.000000  3.385821  9.238342  2.395340  5.236969  1.286614   \n",
      "2  4.752094  3.385821  0.000000  7.007915  2.148311  3.816713  2.554330   \n",
      "3  4.586539  9.238342  7.007915  0.000000  8.004568  4.594912  8.390649   \n",
      "4  5.121488  2.395340  2.148311  8.004568  0.000000  4.129082  2.055532   \n",
      "5  4.040492  5.236969  3.816713  4.594912  4.129082  0.000000  4.375568   \n",
      "6  6.440001  1.286614  2.554330  8.390649  2.055532  4.375568  0.000000   \n",
      "7  4.978613  4.615195  3.545278  5.088560  4.225424  1.766159  3.742332   \n",
      "8  4.068246  5.578802  3.369686  4.119834  4.569281  1.871044  4.585705   \n",
      "9  4.330254  6.306882  4.337093  3.676230  5.296155  2.747927  5.301146   \n",
      "\n",
      "          7         8         9  \n",
      "0  4.978613  4.068246  4.330254  \n",
      "1  4.615195  5.578802  6.306882  \n",
      "2  3.545278  3.369686  4.337093  \n",
      "3  5.088560  4.119834  3.676230  \n",
      "4  4.225424  4.569281  5.296155  \n",
      "5  1.766159  1.871044  2.747927  \n",
      "6  3.742332  4.585705  5.301146  \n",
      "7  0.000000  1.779497  2.754726  \n",
      "8  1.779497  0.000000  2.142750  \n",
      "9  2.754726  2.142750  0.000000  \n"
     ]
    }
   ],
   "source": [
    "DstEuclidiana = cdist(MEstandarizada[0:10], MEstandarizada[0:10], metric='euclidean')\n",
    "MEuclidiana = pd.DataFrame(DstEuclidiana)\n",
    "print(MEuclidiana) "
   ]
  },
  {
   "cell_type": "markdown",
   "metadata": {
    "id": "DQElWCmSrqsA"
   },
   "source": [
    "Distancia entre dos objetos"
   ]
  },
  {
   "cell_type": "code",
   "execution_count": 24,
   "metadata": {
    "colab": {
     "base_uri": "https://localhost:8080/"
    },
    "executionInfo": {
     "elapsed": 167,
     "status": "ok",
     "timestamp": 1633309626835,
     "user": {
      "displayName": "Guillermo Molero-Castillo",
      "photoUrl": "https://lh3.googleusercontent.com/a/default-user=s64",
      "userId": "05385957137518665248"
     },
     "user_tz": 300
    },
    "id": "He8ZKAtzoJm-",
    "outputId": "293d8591-2c61-4c41-f29b-85414b60a6b0"
   },
   "outputs": [
    {
     "data": {
      "text/plain": [
       "7.016065813699803"
      ]
     },
     "execution_count": 24,
     "metadata": {},
     "output_type": "execute_result"
    }
   ],
   "source": [
    "Objeto1 = MEstandarizada[0]\n",
    "Objeto2 = MEstandarizada[1]\n",
    "dstEuclidiana = distance.euclidean(Objeto1,Objeto2)\n",
    "dstEuclidiana "
   ]
  },
  {
   "cell_type": "markdown",
   "metadata": {
    "id": "ByhD6VXyBbf8"
   },
   "source": [
    "**b) Matriz de distancias: Chebyshev**"
   ]
  },
  {
   "cell_type": "code",
   "execution_count": 25,
   "metadata": {
    "id": "hZxcwmX2BkkO"
   },
   "outputs": [],
   "source": [
    "DstChebyshev = cdist(MEstandarizada, MEstandarizada, metric='chebyshev')\n",
    "MChebyshev = pd.DataFrame(DstChebyshev)"
   ]
  },
  {
   "cell_type": "code",
   "execution_count": 26,
   "metadata": {
    "colab": {
     "base_uri": "https://localhost:8080/"
    },
    "executionInfo": {
     "elapsed": 4,
     "status": "ok",
     "timestamp": 1633308036293,
     "user": {
      "displayName": "Guillermo Molero-Castillo",
      "photoUrl": "https://lh3.googleusercontent.com/a/default-user=s64",
      "userId": "05385957137518665248"
     },
     "user_tz": 300
    },
    "id": "ceDvx0h3BpgS",
    "outputId": "8707336c-5a44-489e-a2b0-24b814fb73f5"
   },
   "outputs": [
    {
     "name": "stdout",
     "output_type": "stream",
     "text": [
      "          0         1         2         3         4         5         6    \\\n",
      "0    0.000000  3.770586  2.653755  2.655172  2.818197  2.039179  3.195219   \n",
      "1    3.770586  0.000000  1.769173  5.779572  1.394857  3.064384  0.703826   \n",
      "2    2.653755  1.769173  0.000000  5.308927  1.608003  2.288013  1.390296   \n",
      "3    2.655172  5.779572  5.308927  0.000000  5.473369  3.020914  5.673251   \n",
      "4    2.818197  1.394857  1.608003  5.473369  0.000000  2.452455  1.312466   \n",
      "..        ...       ...       ...       ...       ...       ...       ...   \n",
      "564  3.186774  1.971130  1.252274  5.841946  1.873289  2.821032  1.674029   \n",
      "565  4.158469  2.438766  1.628947  5.969531  3.236950  2.948616  1.924485   \n",
      "566  4.118909  2.399206  1.931453  5.806506  3.197390  3.077905  1.884924   \n",
      "567  4.409792  3.759215  2.219218  3.867224  3.488274  3.171792  3.183849   \n",
      "568  4.680551  3.638222  4.054295  6.395638  3.558698  5.349506  2.988949   \n",
      "\n",
      "          7         8         9    ...       559       560       561  \\\n",
      "0    2.591848  2.662165  3.178774  ...  3.764123  3.902492  4.961632   \n",
      "1    2.529006  3.028801  3.651748  ...  2.573169  2.182789  2.745509   \n",
      "2    2.058361  1.970470  3.181104  ...  2.486292  2.188877  3.683802   \n",
      "3    3.250566  3.338458  2.127824  ...  4.499475  5.065099  6.013476   \n",
      "4    2.222803  2.134912  3.345546  ...  2.493645  2.980973  3.497582   \n",
      "..        ...       ...       ...  ...       ...       ...       ...   \n",
      "564  2.591380  2.503489  3.714123  ...  2.854343  2.501955  3.582784   \n",
      "565  2.718965  2.631073  3.841707  ...  2.448202  1.726806  2.536247   \n",
      "566  2.555940  3.042323  3.678683  ...  1.445632  1.048979  1.935000   \n",
      "567  3.235918  2.158508  2.311876  ...  3.683802  3.851614  4.881311   \n",
      "568  4.716134  5.313924  4.694784  ...  2.845194  3.320580  1.924047   \n",
      "\n",
      "          562       563       564       565       566       567       568  \n",
      "0    4.709984  3.423116  3.186774  4.158469  4.118909  4.409792  4.680551  \n",
      "1    2.990281  2.893921  1.971130  2.438766  2.399206  3.759215  3.638222  \n",
      "2    2.180462  1.506597  1.252274  1.628947  1.931453  2.219218  4.054295  \n",
      "3    3.674430  4.061436  5.841946  5.969531  5.806506  3.867224  6.395638  \n",
      "4    3.788465  2.501597  1.873289  3.236950  3.197390  3.488274  3.558698  \n",
      "..        ...       ...       ...       ...       ...       ...       ...  \n",
      "564  2.167517  2.041074  0.000000  1.363661  2.215187  3.053083  4.153927  \n",
      "565  2.295101  2.277968  1.363661  0.000000  1.157892  3.289977  3.513256  \n",
      "566  2.132077  2.823487  2.215187  1.157892  0.000000  3.310823  2.510685  \n",
      "567  1.527996  1.012009  3.053083  3.289977  3.310823  0.000000  4.637852  \n",
      "568  3.712701  4.075645  4.153927  3.513256  2.510685  4.637852  0.000000  \n",
      "\n",
      "[569 rows x 569 columns]\n"
     ]
    }
   ],
   "source": [
    "print(MChebyshev)"
   ]
  },
  {
   "cell_type": "markdown",
   "metadata": {
    "id": "R7e4rqH66yxZ"
   },
   "source": [
    "Matriz de distancias de una parte del total de objetos"
   ]
  },
  {
   "cell_type": "code",
   "execution_count": 27,
   "metadata": {
    "colab": {
     "base_uri": "https://localhost:8080/"
    },
    "executionInfo": {
     "elapsed": 169,
     "status": "ok",
     "timestamp": 1633308049613,
     "user": {
      "displayName": "Guillermo Molero-Castillo",
      "photoUrl": "https://lh3.googleusercontent.com/a/default-user=s64",
      "userId": "05385957137518665248"
     },
     "user_tz": 300
    },
    "id": "Qx5UQOcY6zl6",
    "outputId": "190f5410-1a99-4ecc-8475-84e0a4eb9c38"
   },
   "outputs": [
    {
     "name": "stdout",
     "output_type": "stream",
     "text": [
      "          0         1         2         3         4         5         6  \\\n",
      "0  0.000000  3.770586  2.653755  2.655172  2.818197  2.039179  3.195219   \n",
      "1  3.770586  0.000000  1.769173  5.779572  1.394857  3.064384  0.703826   \n",
      "2  2.653755  1.769173  0.000000  5.308927  1.608003  2.288013  1.390296   \n",
      "3  2.655172  5.779572  5.308927  0.000000  5.473369  3.020914  5.673251   \n",
      "4  2.818197  1.394857  1.608003  5.473369  0.000000  2.452455  1.312466   \n",
      "5  2.039179  3.064384  2.288013  3.020914  2.452455  0.000000  2.652337   \n",
      "6  3.195219  0.703826  1.390296  5.673251  1.312466  2.652337  0.000000   \n",
      "7  2.591848  2.529006  2.058361  3.250566  2.222803  1.193785  2.422685   \n",
      "8  2.662165  3.028801  1.970470  3.338458  2.134912  1.424165  2.334794   \n",
      "9  3.178774  3.651748  3.181104  2.127824  3.345546  1.940774  3.545428   \n",
      "\n",
      "          7         8         9  \n",
      "0  2.591848  2.662165  3.178774  \n",
      "1  2.529006  3.028801  3.651748  \n",
      "2  2.058361  1.970470  3.181104  \n",
      "3  3.250566  3.338458  2.127824  \n",
      "4  2.222803  2.134912  3.345546  \n",
      "5  1.193785  1.424165  1.940774  \n",
      "6  2.422685  2.334794  3.545428  \n",
      "7  0.000000  1.158071  1.677846  \n",
      "8  1.158071  0.000000  1.210634  \n",
      "9  1.677846  1.210634  0.000000  \n"
     ]
    }
   ],
   "source": [
    "DstChebyshev = cdist(MEstandarizada[0:10], MEstandarizada[0:10], metric='chebyshev')\n",
    "MChebyshev = pd.DataFrame(DstChebyshev)\n",
    "print(MChebyshev)"
   ]
  },
  {
   "cell_type": "markdown",
   "metadata": {
    "id": "LL8UlDBI6ri1"
   },
   "source": [
    "Distancia entre dos objetos"
   ]
  },
  {
   "cell_type": "code",
   "execution_count": 28,
   "metadata": {
    "colab": {
     "base_uri": "https://localhost:8080/"
    },
    "executionInfo": {
     "elapsed": 140,
     "status": "ok",
     "timestamp": 1633308091605,
     "user": {
      "displayName": "Guillermo Molero-Castillo",
      "photoUrl": "https://lh3.googleusercontent.com/a/default-user=s64",
      "userId": "05385957137518665248"
     },
     "user_tz": 300
    },
    "id": "1FWopV0a6sPc",
    "outputId": "0b6e4c07-963a-4d99-b64c-49135d205e35"
   },
   "outputs": [
    {
     "data": {
      "text/plain": [
       "3.7705863435627216"
      ]
     },
     "execution_count": 28,
     "metadata": {},
     "output_type": "execute_result"
    }
   ],
   "source": [
    "Objeto1 = MEstandarizada[0]\n",
    "Objeto2 = MEstandarizada[1]\n",
    "dstChebyshev = distance.chebyshev(Objeto1,Objeto2)\n",
    "dstChebyshev"
   ]
  },
  {
   "cell_type": "markdown",
   "metadata": {
    "id": "PNUVTubfChSE"
   },
   "source": [
    "**c) Matriz de distancias: Manhattan**"
   ]
  },
  {
   "cell_type": "code",
   "execution_count": 29,
   "metadata": {
    "id": "mkTj7uZPCicE"
   },
   "outputs": [],
   "source": [
    "DstManhattan = cdist(MEstandarizada, MEstandarizada, metric='cityblock')\n",
    "MManhattan = pd.DataFrame(DstManhattan)"
   ]
  },
  {
   "cell_type": "code",
   "execution_count": 30,
   "metadata": {
    "colab": {
     "base_uri": "https://localhost:8080/"
    },
    "executionInfo": {
     "elapsed": 201,
     "status": "ok",
     "timestamp": 1633308121780,
     "user": {
      "displayName": "Guillermo Molero-Castillo",
      "photoUrl": "https://lh3.googleusercontent.com/a/default-user=s64",
      "userId": "05385957137518665248"
     },
     "user_tz": 300
    },
    "id": "kZZZVhNhCizt",
    "outputId": "8cba6204-28ce-41f2-c3fd-7b96bc164afe"
   },
   "outputs": [
    {
     "name": "stdout",
     "output_type": "stream",
     "text": [
      "           0          1          2          3          4          5    \\\n",
      "0     0.000000  18.620047  11.585416  11.150307  13.038137  10.591820   \n",
      "1    18.620047   0.000000   8.654270  22.695460   5.603816  12.513015   \n",
      "2    11.585416   8.654270   0.000000  15.617146   4.683794   8.897888   \n",
      "3    11.150307  22.695460  15.617146   0.000000  18.709918  11.145850   \n",
      "4    13.038137   5.603816   4.683794  18.709918   0.000000   9.781161   \n",
      "..         ...        ...        ...        ...        ...        ...   \n",
      "564  14.033795   8.051522   4.382722  18.695767   5.456088  13.081346   \n",
      "565  18.511790   5.803821   6.926374  21.372473   5.564537  13.282785   \n",
      "566  21.455783   5.338900  10.836015  23.526907   9.724111  14.559192   \n",
      "567   7.267972  18.290216  10.135811  13.764145  14.463722  14.468925   \n",
      "568  28.731816  12.192523  18.112049  27.860553  17.002980  19.477907   \n",
      "\n",
      "           6          7          8          9    ...        559        560  \\\n",
      "0    16.732910  12.078288  10.063035   9.936044  ...  20.870441  21.030198   \n",
      "1     3.047134  11.000639  14.543144  15.826506  ...   8.895619   8.662708   \n",
      "2     6.556530   8.124921   7.950716   9.647951  ...  11.869577  10.898086   \n",
      "3    19.779759  12.436645   8.822511   8.572367  ...  20.050300  21.652849   \n",
      "4     4.853551  11.395766  11.417034  12.814429  ...  11.086557  10.115066   \n",
      "..         ...        ...        ...        ...  ...        ...        ...   \n",
      "564   6.534854  12.308380  11.868889  12.265277  ...  11.549450  10.577959   \n",
      "565   4.249478  12.163301  12.775917  13.443924  ...   8.524929   6.615587   \n",
      "566   4.870560  11.090263  14.704396  14.954540  ...   5.576677   3.978421   \n",
      "567  16.692342  13.108519  10.456724  10.663085  ...  19.139176  17.800302   \n",
      "568  12.549193  16.724694  19.935527  19.878936  ...   9.314451   9.281442   \n",
      "\n",
      "           561        562        563        564        565        566  \\\n",
      "0    29.941046  11.780401   8.500521  14.033795  18.511790  21.455783   \n",
      "1    12.786512  14.393647  14.175041   8.051522   5.803821   5.338900   \n",
      "2    19.321278   8.156437   6.020636   4.382722   6.926374  10.836015   \n",
      "3    29.069783  13.409141  14.996693  18.695767  21.372473  23.526907   \n",
      "4    18.209374  10.924501  10.348547   5.456088   5.564537   9.724111   \n",
      "..         ...        ...        ...        ...        ...        ...   \n",
      "564  17.935113  10.840975   7.396333   0.000000   5.480125   9.520730   \n",
      "565  12.644837   9.594605  10.909890   5.480125   0.000000   4.564744   \n",
      "566   8.485263  11.641411  15.069464   9.520730   4.564744   0.000000   \n",
      "567  25.696549   7.921493   4.296944  11.536713  13.554358  17.793053   \n",
      "568   6.274601  19.781129  22.601475  17.465873  14.157449   9.592706   \n",
      "\n",
      "           567        568  \n",
      "0     7.267972  28.731816  \n",
      "1    18.290216  12.192523  \n",
      "2    10.135811  18.112049  \n",
      "3    13.764145  27.860553  \n",
      "4    14.463722  17.002980  \n",
      "..         ...        ...  \n",
      "564  11.536713  17.465873  \n",
      "565  13.554358  14.157449  \n",
      "566  17.793053   9.592706  \n",
      "567   0.000000  26.716650  \n",
      "568  26.716650   0.000000  \n",
      "\n",
      "[569 rows x 569 columns]\n"
     ]
    }
   ],
   "source": [
    "print(MManhattan)"
   ]
  },
  {
   "cell_type": "markdown",
   "metadata": {
    "id": "czqO7FST8Qvb"
   },
   "source": [
    "Matriz de distancias de una parte del total de objetos"
   ]
  },
  {
   "cell_type": "code",
   "execution_count": 31,
   "metadata": {
    "colab": {
     "base_uri": "https://localhost:8080/"
    },
    "executionInfo": {
     "elapsed": 147,
     "status": "ok",
     "timestamp": 1633308165940,
     "user": {
      "displayName": "Guillermo Molero-Castillo",
      "photoUrl": "https://lh3.googleusercontent.com/a/default-user=s64",
      "userId": "05385957137518665248"
     },
     "user_tz": 300
    },
    "id": "93LDlDQ48Rph",
    "outputId": "977b7fc5-a2bb-4979-dd6c-c5f576e9e524"
   },
   "outputs": [
    {
     "name": "stdout",
     "output_type": "stream",
     "text": [
      "           0          1          2          3          4          5  \\\n",
      "0   0.000000  18.620047  11.585416  11.150307  13.038137  10.591820   \n",
      "1  18.620047   0.000000   8.654270  22.695460   5.603816  12.513015   \n",
      "2  11.585416   8.654270   0.000000  15.617146   4.683794   8.897888   \n",
      "3  11.150307  22.695460  15.617146   0.000000  18.709918  11.145850   \n",
      "4  13.038137   5.603816   4.683794  18.709918   0.000000   9.781161   \n",
      "5  10.591820  12.513015   8.897888  11.145850   9.781161   0.000000   \n",
      "6  16.732910   3.047134   6.556530  19.779759   4.853551  10.625878   \n",
      "7  12.078288  11.000639   8.124921  12.436645  11.395766   4.264835   \n",
      "8  10.063035  14.543144   7.950716   8.822511  11.417034   4.012202   \n",
      "9   9.936044  15.826506   9.647951   8.572367  12.814429   6.008229   \n",
      "\n",
      "           6          7          8          9  \n",
      "0  16.732910  12.078288  10.063035   9.936044  \n",
      "1   3.047134  11.000639  14.543144  15.826506  \n",
      "2   6.556530   8.124921   7.950716   9.647951  \n",
      "3  19.779759  12.436645   8.822511   8.572367  \n",
      "4   4.853551  11.395766  11.417034  12.814429  \n",
      "5  10.625878   4.264835   4.012202   6.008229  \n",
      "6   0.000000   8.760614  11.627443  12.910806  \n",
      "7   8.760614   0.000000   4.250675   6.613067  \n",
      "8  11.627443   4.250675   0.000000   5.276107  \n",
      "9  12.910806   6.613067   5.276107   0.000000  \n"
     ]
    }
   ],
   "source": [
    "DstManhattan = cdist(MEstandarizada[0:10], MEstandarizada[0:10], metric='cityblock')\n",
    "MManhattan = pd.DataFrame(DstManhattan)\n",
    "print(MManhattan)"
   ]
  },
  {
   "cell_type": "markdown",
   "metadata": {
    "id": "bxzGN1Hr8wbV"
   },
   "source": [
    "Distancia entre dos objetos"
   ]
  },
  {
   "cell_type": "code",
   "execution_count": 32,
   "metadata": {
    "colab": {
     "base_uri": "https://localhost:8080/"
    },
    "executionInfo": {
     "elapsed": 220,
     "status": "ok",
     "timestamp": 1633309651624,
     "user": {
      "displayName": "Guillermo Molero-Castillo",
      "photoUrl": "https://lh3.googleusercontent.com/a/default-user=s64",
      "userId": "05385957137518665248"
     },
     "user_tz": 300
    },
    "id": "wlaZ_RQH8ySL",
    "outputId": "3e8eb409-1198-4ea7-ea16-6bd982a5a0df"
   },
   "outputs": [
    {
     "data": {
      "text/plain": [
       "18.620047256603765"
      ]
     },
     "execution_count": 32,
     "metadata": {},
     "output_type": "execute_result"
    }
   ],
   "source": [
    "Objeto1 = MEstandarizada[0]\n",
    "Objeto2 = MEstandarizada[1]\n",
    "dstManhattan = distance.cityblock(Objeto1,Objeto2)\n",
    "dstManhattan"
   ]
  },
  {
   "cell_type": "markdown",
   "metadata": {
    "id": "cdJzgxqoEDWw"
   },
   "source": [
    "**d) Matriz de distancias: Minkowski**"
   ]
  },
  {
   "cell_type": "code",
   "execution_count": 33,
   "metadata": {
    "id": "lk6Obnn7EDwI"
   },
   "outputs": [],
   "source": [
    "DstMinkowski = cdist(MEstandarizada, MEstandarizada, metric='minkowski', p=1.5)\n",
    "MMinkowski = pd.DataFrame(DstMinkowski)"
   ]
  },
  {
   "cell_type": "code",
   "execution_count": 34,
   "metadata": {
    "colab": {
     "base_uri": "https://localhost:8080/"
    },
    "executionInfo": {
     "elapsed": 195,
     "status": "ok",
     "timestamp": 1633308219874,
     "user": {
      "displayName": "Guillermo Molero-Castillo",
      "photoUrl": "https://lh3.googleusercontent.com/a/default-user=s64",
      "userId": "05385957137518665248"
     },
     "user_tz": 300
    },
    "id": "chKy4TXYED-b",
    "outputId": "f6f6a1d2-9511-416f-dd0b-f63551a9b589"
   },
   "outputs": [
    {
     "name": "stdout",
     "output_type": "stream",
     "text": [
      "           0          1         2          3          4          5    \\\n",
      "0     0.000000   9.635120  6.287481   6.080260   6.890206   5.524724   \n",
      "1     9.635120   0.000000  4.579771  12.269150   3.147722   6.881577   \n",
      "2     6.287481   4.579771  0.000000   8.920553   2.718821   4.987281   \n",
      "3     6.080260  12.269150  8.920553   0.000000  10.455040   6.054958   \n",
      "4     6.890206   3.147722  2.718821  10.455040   0.000000   5.392224   \n",
      "..         ...        ...       ...        ...        ...        ...   \n",
      "564   7.814077   4.558077  2.394075  10.669552   3.038869   6.780314   \n",
      "565   9.811792   3.471362  3.663504  11.658466   3.795348   7.251852   \n",
      "566  11.153509   3.397489  5.586955  12.482435   5.348386   7.724256   \n",
      "567   5.191153   9.696519  5.438109   7.556388   7.772010   7.591034   \n",
      "568  14.484108   6.715256  9.790784  14.902813   9.194000  10.220293   \n",
      "\n",
      "           6         7          8          9    ...        559        560  \\\n",
      "0     8.812099  6.616683   5.411946   5.586518  ...  10.624775  10.836031   \n",
      "1     1.690254  6.090396   7.601485   8.458919  ...   4.871862   4.609617   \n",
      "2     3.458242  4.607157   4.415136   5.511341  ...   6.253223   5.763224   \n",
      "3    10.975503  6.756457   5.117344   4.781310  ...  11.078968  11.459126   \n",
      "4     2.687285  5.841877   6.153569   6.989878  ...   5.866294   5.717493   \n",
      "..         ...       ...        ...        ...  ...        ...        ...   \n",
      "564   3.697261  6.552954   6.388860   6.975247  ...   6.284438   5.853157   \n",
      "565   2.583960  6.307077   6.839565   7.352658  ...   4.771195   3.707606   \n",
      "566   2.837051  6.213876   7.659113   7.902130  ...   3.128922   2.170610   \n",
      "567   8.615536  7.183369   5.625251   5.678382  ...  10.004292   9.451118   \n",
      "568   6.830017  8.894717  10.581356  10.735800  ...   5.075937   5.338065   \n",
      "\n",
      "           561        562        563        564        565        566  \\\n",
      "0    15.193952   6.741502   5.049401   7.814077   9.811792  11.153509   \n",
      "1     6.962972   7.482968   7.503829   4.558077   3.471362   3.397489   \n",
      "2     9.966349   4.438542   3.352316   2.394075   3.663504   5.586955   \n",
      "3    15.611623   7.465843   8.012229  10.669552  11.658466  12.482435   \n",
      "4     9.424062   6.193724   5.506822   3.038869   3.795348   5.348386   \n",
      "..         ...        ...        ...        ...        ...        ...   \n",
      "564   9.479480   5.794280   4.261627   0.000000   3.094528   5.294613   \n",
      "565   6.927989   5.237430   5.811337   3.094528   0.000000   2.610084   \n",
      "566   4.557120   6.128424   7.758729   5.294613   2.610084   0.000000   \n",
      "567  13.665929   4.204520   2.398254   6.412876   7.454245   9.380288   \n",
      "568   3.737129  10.113260  12.040883   9.849024   7.760628   5.348117   \n",
      "\n",
      "           567        568  \n",
      "0     5.191153  14.484108  \n",
      "1     9.696519   6.715256  \n",
      "2     5.438109   9.790784  \n",
      "3     7.556388  14.902813  \n",
      "4     7.772010   9.194000  \n",
      "..         ...        ...  \n",
      "564   6.412876   9.849024  \n",
      "565   7.454245   7.760628  \n",
      "566   9.380288   5.348117  \n",
      "567   0.000000  13.856291  \n",
      "568  13.856291   0.000000  \n",
      "\n",
      "[569 rows x 569 columns]\n"
     ]
    }
   ],
   "source": [
    "print(MMinkowski)"
   ]
  },
  {
   "cell_type": "markdown",
   "metadata": {
    "id": "erqbHrWAADy2"
   },
   "source": [
    "Matriz de distancias de una parte del total de objetos"
   ]
  },
  {
   "cell_type": "code",
   "execution_count": 35,
   "metadata": {
    "colab": {
     "base_uri": "https://localhost:8080/"
    },
    "executionInfo": {
     "elapsed": 135,
     "status": "ok",
     "timestamp": 1633308242999,
     "user": {
      "displayName": "Guillermo Molero-Castillo",
      "photoUrl": "https://lh3.googleusercontent.com/a/default-user=s64",
      "userId": "05385957137518665248"
     },
     "user_tz": 300
    },
    "id": "su4IXbeWADzA",
    "outputId": "5ac89044-2544-42ae-8337-f006714245a1"
   },
   "outputs": [
    {
     "name": "stdout",
     "output_type": "stream",
     "text": [
      "          0          1         2          3          4         5          6  \\\n",
      "0  0.000000   9.635120  6.287481   6.080260   6.890206  5.524724   8.812099   \n",
      "1  9.635120   0.000000  4.579771  12.269150   3.147722  6.881577   1.690254   \n",
      "2  6.287481   4.579771  0.000000   8.920553   2.718821  4.987281   3.458242   \n",
      "3  6.080260  12.269150  8.920553   0.000000  10.455040  6.054958  10.975503   \n",
      "4  6.890206   3.147722  2.718821  10.455040   0.000000  5.392224   2.687285   \n",
      "5  5.524724   6.881577  4.987281   6.054958   5.392224  0.000000   5.782465   \n",
      "6  8.812099   1.690254  3.458242  10.975503   2.687285  5.782465   0.000000   \n",
      "7  6.616683   6.090396  4.607157   6.756457   5.841877  2.322600   4.882063   \n",
      "8  5.411946   7.601485  4.415136   5.117344   6.153569  2.338082   6.179143   \n",
      "9  5.586518   8.458919  5.511341   4.781310   6.989878  3.498116   6.997519   \n",
      "\n",
      "          7         8         9  \n",
      "0  6.616683  5.411946  5.586518  \n",
      "1  6.090396  7.601485  8.458919  \n",
      "2  4.607157  4.415136  5.511341  \n",
      "3  6.756457  5.117344  4.781310  \n",
      "4  5.841877  6.153569  6.989878  \n",
      "5  2.322600  2.338082  3.498116  \n",
      "6  4.882063  6.179143  6.997519  \n",
      "7  0.000000  2.335008  3.634511  \n",
      "8  2.335008  0.000000  2.848763  \n",
      "9  3.634511  2.848763  0.000000  \n"
     ]
    }
   ],
   "source": [
    "DstMinkowski = cdist(MEstandarizada[0:10], MEstandarizada[0:10], metric='minkowski', p=1.5)\n",
    "MMinkowski = pd.DataFrame(DstMinkowski)\n",
    "print(MMinkowski)"
   ]
  },
  {
   "cell_type": "markdown",
   "metadata": {
    "id": "k5oWahVIA9vd"
   },
   "source": [
    "Distancia entre dos objetos"
   ]
  },
  {
   "cell_type": "code",
   "execution_count": 36,
   "metadata": {
    "colab": {
     "base_uri": "https://localhost:8080/"
    },
    "executionInfo": {
     "elapsed": 227,
     "status": "ok",
     "timestamp": 1633309895978,
     "user": {
      "displayName": "Guillermo Molero-Castillo",
      "photoUrl": "https://lh3.googleusercontent.com/a/default-user=s64",
      "userId": "05385957137518665248"
     },
     "user_tz": 300
    },
    "id": "x3KvnK-sA9_g",
    "outputId": "188d0c55-7720-41b3-c215-5805bb04f50e"
   },
   "outputs": [
    {
     "data": {
      "text/plain": [
       "9.635120254412774"
      ]
     },
     "execution_count": 36,
     "metadata": {},
     "output_type": "execute_result"
    }
   ],
   "source": [
    "Objeto1 = MEstandarizada[0]\n",
    "Objeto2 = MEstandarizada[1]\n",
    "dstMinkowski = distance.minkowski(Objeto1,Objeto2, p=1.5)\n",
    "dstMinkowski"
   ]
  }
 ],
 "metadata": {
  "colab": {
   "authorship_tag": "ABX9TyO01y1BSMbFz0IvFm0KOj7S",
   "name": "IA-Práctica3-MétricasDistancia(DatosEstandarizados).ipynb",
   "provenance": []
  },
  "kernelspec": {
   "display_name": "palatia",
   "language": "python",
   "name": "python3"
  },
  "language_info": {
   "codemirror_mode": {
    "name": "ipython",
    "version": 3
   },
   "file_extension": ".py",
   "mimetype": "text/x-python",
   "name": "python",
   "nbconvert_exporter": "python",
   "pygments_lexer": "ipython3",
   "version": "3.8.10 (default, Nov 14 2022, 12:59:47) \n[GCC 9.4.0]"
  },
  "vscode": {
   "interpreter": {
    "hash": "65c6721f580f10f2abb4cdeabcb490074e09fe923097b9a37fe5b2648c4da85e"
   }
  }
 },
 "nbformat": 4,
 "nbformat_minor": 1
}
